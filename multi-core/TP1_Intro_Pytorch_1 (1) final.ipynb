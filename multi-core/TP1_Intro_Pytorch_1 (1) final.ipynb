{
 "cells": [
  {
   "cell_type": "markdown",
   "metadata": {
    "id": "EcqLiuHLezpy"
   },
   "source": [
    "#Introduction à PyTorch :\n",
    "\n",
    "Ce TP donne une initiation auframework de Machine/Deep Learning PyTorch en utilisant leserviceGoogle Colab. Ce TP a pour objectifs : \n",
    "- Comprendre la bibliothèque Tensor PyTorch et les réseaux de neurones.\n",
    "- Construire et entrainer un réseaux de neurones pour la classification des images."
   ]
  },
  {
   "cell_type": "markdown",
   "metadata": {
    "id": "hndSkzB-hUsi"
   },
   "source": [
    "##PyTorch :\n",
    "\n",
    "*PyTorch* est une bibliothèque de Machine/Deep Learning qui lie la ré-utilisabilité et la performance des outils de  Machine/Deep Learning :\n",
    "- PyTorch fournit un style de programmation imp ́eratif et ”Pythonic” qui prend en charge lecode en tant que modèle. \n",
    "- PyTorch facilite le d ́ebogage et est compatible avec d’autres bibliothèques informatiques scientifiques populaire. \n",
    "- PyTorch prend en charge les accélérateurs matériels tels que comme GPU.  \n"
   ]
  },
  {
   "cell_type": "markdown",
   "metadata": {
    "id": "OemR8Y3fyhPp"
   },
   "source": [
    "Nous allons aborder quelques aspect lies aux Deep Learning en utilisant PyTorch.  \n",
    "Nous finironspar un exemple d’utilisation de ces mod`eles pour la classification d’images sur plusieurs platformes matèriels."
   ]
  },
  {
   "cell_type": "markdown",
   "metadata": {
    "id": "VOCkGyy2lsJt"
   },
   "source": [
    "##Google Colab :\n",
    "Google Colaboratory plus communément appele  *Google  Colab* ou tout simplement *Colab* est un projet de recherche pour le prototypage de modèles de Machine Learning sur des plates-formes matérielles puissantes telles que les GPU et les TPU. *Google Colab* fournit un environnement de notebook *Jupyter* sur serveur pour le développement interactif. Google Colab est gratuit à utiliser comme les autres produits du *G Suite*."
   ]
  },
  {
   "cell_type": "markdown",
   "metadata": {
    "id": "bW71LY6qmvIM"
   },
   "source": [
    "##Préparation de l'environnement de développement :\n",
    "**NOTE** : comme Google Colaboratory est un service cloud de Google, il faut s'assurer d'avoir uncompte Gmail afin de pouvoir l'utiliser.  \n",
    "\n",
    "- **Première connexion** : en utilisant un navigateur web, connectez-vous https://colab.research.google.com/en utilisant votre  compte  Gmail. Vous allez être redirige vers une page introduisant Google  Colab. Commencez à prendre en main quelques concepts basiques du developpement sous Colab : exécuter les cellules codes existantes, en rajouter  d'autres, ajouter des cellules Markdown, etc.  \n",
    "- **Création d'un Notebook** : cliquez sur ***Fichier→Nouveau notebook***. Changez le nom du notebook en double-cliquant sur **Untitled** en haut à gauche de la page en le remplaçant par un nom du format suivant : **TP\\[formation\\]\\[matière\\]\\[NOM\\]\\[PRENOM\\]**. Ce notebook vous suivra tout au long du TP. Le notebook devra être rendu à la fin des TP.  \n",
    "- **Importation d'un Notebook** : cliquez sur ***Fichier→Ouvrir*** un notebook.  Localisez le notebook que vous trouverez avec l'ennoncé et faites ouvrir aprés l'avoir renommer suivant lacharte pr ́ec ́edente. C'est plus simple de travailler sur le carnet donné en TP que de le recréer à zero.  \n",
    "- **Création et exécution des cellules** : il existe principalement deux types  de cellules :\n",
    "1. `+ Code` pour code Python ou commande notebook/shell\n",
    "2. `+ Texte` pour code Markdown ou HTML  \n",
    "Pour exécuter une cellule, il faut cliquer sur le boutton 'Play' à gauche de la cellule, utliser le raccourci ***Shift+Entrée***, ou cluquer sur `Exécution` puis `Exécuter le code selectionné`.\n",
    "- **Environnement d'exécution CPU/GPU/TPU** : google colab offre principalement trois plateformes d'exécution : 1) CPU (noté `None`), 2) GPU, et 3) TPU. \n",
    "Pour passer d'une platforme à une  autre, cliquez sur `Exécution`, `Modifier le type d'exécution`, le menu déroulant du `Accelerateur matériel` puis choisir la plateforme."
   ]
  },
  {
   "cell_type": "markdown",
   "metadata": {
    "id": "EZaz2YzowbWi"
   },
   "source": [
    "#Introduction au Deep Learning avec PyTorch\n",
    "Cette introduction suppose la maitrise de la bibliothèque `numpy`.\n",
    "##Installation PyTorch\n",
    "Nous devrons d'abord installer la bibliothèque PyTorch. Vous pouvez le faire en utilisant la commande suivante :"
   ]
  },
  {
   "cell_type": "code",
   "execution_count": 1,
   "metadata": {
    "colab": {
     "base_uri": "https://localhost:8080/"
    },
    "id": "oiSxDapdmprc",
    "outputId": "5629cc41-047a-4c33-9eab-638f5f25dab3"
   },
   "outputs": [
    {
     "name": "stdout",
     "output_type": "stream",
     "text": [
      "Collecting torch\n",
      "\u001b[33m  Retrying (Retry(total=4, connect=None, read=None, redirect=None, status=None)) after connection broken by 'NewConnectionError('<urllib3.connection.VerifiedHTTPSConnection object at 0x7f887980f0>: Failed to establish a new connection: [Errno -2] Name or service not known',)': /simple/torch/\u001b[0m\n",
      "\u001b[33m  Retrying (Retry(total=3, connect=None, read=None, redirect=None, status=None)) after connection broken by 'NewConnectionError('<urllib3.connection.VerifiedHTTPSConnection object at 0x7f88798240>: Failed to establish a new connection: [Errno -2] Name or service not known',)': /simple/torch/\u001b[0m\n",
      "\u001b[33m  Retrying (Retry(total=2, connect=None, read=None, redirect=None, status=None)) after connection broken by 'NewConnectionError('<urllib3.connection.VerifiedHTTPSConnection object at 0x7f887982e8>: Failed to establish a new connection: [Errno -2] Name or service not known',)': /simple/torch/\u001b[0m\n",
      "\u001b[33m  Retrying (Retry(total=1, connect=None, read=None, redirect=None, status=None)) after connection broken by 'NewConnectionError('<urllib3.connection.VerifiedHTTPSConnection object at 0x7f88798390>: Failed to establish a new connection: [Errno -2] Name or service not known',)': /simple/torch/\u001b[0m\n",
      "\u001b[33m  Retrying (Retry(total=0, connect=None, read=None, redirect=None, status=None)) after connection broken by 'NewConnectionError('<urllib3.connection.VerifiedHTTPSConnection object at 0x7f88798438>: Failed to establish a new connection: [Errno -2] Name or service not known',)': /simple/torch/\u001b[0m\n",
      "\u001b[31m  Could not find a version that satisfies the requirement torch (from versions: )\u001b[0m\n",
      "\u001b[31mNo matching distribution found for torch\u001b[0m\n"
     ]
    }
   ],
   "source": [
    "!pip3 install torch torchvision"
   ]
  },
  {
   "cell_type": "markdown",
   "metadata": {
    "id": "nT3C_rCodryN"
   },
   "source": [
    "###Tensors :\n",
    "Un `Tensor` est une unité de stockage de données communément utilisée dans le domaine du Deep Learning. Comme `ndarray` dans `numpy`, un `Tensor` c'est généralement un tableau de `n` dimensions, adapté à une exécution sur GPU.  \n",
    "Nous allons explorer quelques aspects sur les `Tensors`, en commençant par importer le package `torch` qui représente PyTorch.  "
   ]
  },
  {
   "cell_type": "code",
   "execution_count": 2,
   "metadata": {
    "id": "kM-inE6qrVaM"
   },
   "outputs": [],
   "source": [
    "from __future__ import print_function\n",
    "import torch"
   ]
  },
  {
   "cell_type": "markdown",
   "metadata": {
    "id": "BdS547CStcoh"
   },
   "source": [
    "Nou pouvons d'abord déclarer une matrice sans initialisation de ses valeurs.  \n",
    "Nous déclarons une matrice sur PyTorch comme suit :"
   ]
  },
  {
   "cell_type": "code",
   "execution_count": 3,
   "metadata": {
    "colab": {
     "base_uri": "https://localhost:8080/"
    },
    "id": "gXE5QQIytEoO",
    "outputId": "432de16b-043a-4b0f-d681-86176da94868"
   },
   "outputs": [
    {
     "name": "stdout",
     "output_type": "stream",
     "text": [
      "tensor([[-3.8029e+03,  1.6263e-40, -1.2961e-11],\n",
      "        [-1.5212e+04,  1.6299e-40,  1.6751e-37],\n",
      "        [-4.9745e-11,  1.6751e-37, -4.9745e-11],\n",
      "        [ 1.6751e-37,  2.5574e-42,  0.0000e+00],\n",
      "        [-8.2581e-28,  1.7796e-43,  8.0872e-24]])\n"
     ]
    }
   ],
   "source": [
    "x = torch.empty(5, 3)\n",
    "print(x)"
   ]
  },
  {
   "cell_type": "markdown",
   "metadata": {
    "id": "SpRI8Kp1udSV"
   },
   "source": [
    "Lorsqu'une matrice non initialisée est créée, les valeurs qui étaient dans la mémoire allouée à ce moment-là apparaîtront comme valeurs initiales. Nous pouvons déclarer une matrice, aléatoirement initialisée avec des valeurs réelles comprises entre 0 et 1 : "
   ]
  },
  {
   "cell_type": "code",
   "execution_count": 4,
   "metadata": {
    "colab": {
     "base_uri": "https://localhost:8080/"
    },
    "id": "lbbasG4AuRcn",
    "outputId": "5556456b-a92d-48b0-db30-a62128e81b28"
   },
   "outputs": [
    {
     "name": "stdout",
     "output_type": "stream",
     "text": [
      "tensor([[0.9588, 0.2898, 0.9681],\n",
      "        [0.3765, 0.0578, 0.0514],\n",
      "        [0.8732, 0.9861, 0.1290],\n",
      "        [0.7963, 0.2265, 0.0955],\n",
      "        [0.7436, 0.6616, 0.4469]])\n"
     ]
    }
   ],
   "source": [
    "x = torch.rand(5, 3)\n",
    "print(x)"
   ]
  },
  {
   "cell_type": "markdown",
   "metadata": {
    "id": "pRfLkhoMwqtF"
   },
   "source": [
    "Pour créer une matrice aléatoirement initialisée avec des entiers générer entre 1 et 10 : "
   ]
  },
  {
   "cell_type": "code",
   "execution_count": 5,
   "metadata": {
    "colab": {
     "base_uri": "https://localhost:8080/"
    },
    "id": "d0EKw2-cu3qb",
    "outputId": "03b3be12-dc0e-45af-f520-385fc4ab8b38"
   },
   "outputs": [
    {
     "name": "stdout",
     "output_type": "stream",
     "text": [
      "tensor([[2, 4, 6],\n",
      "        [6, 5, 8],\n",
      "        [6, 6, 3],\n",
      "        [9, 1, 3],\n",
      "        [4, 9, 8]])\n"
     ]
    }
   ],
   "source": [
    "x =  torch.randint(1, 10, (5, 3))\n",
    "print(x)"
   ]
  },
  {
   "cell_type": "markdown",
   "metadata": {
    "id": "-3lTPlpDzP0X"
   },
   "source": [
    "Déclarer une matrice remplie de zéros et de `dtype` (i.e. data type) long qui est un entier sur 64 bits :"
   ]
  },
  {
   "cell_type": "code",
   "execution_count": 6,
   "metadata": {
    "colab": {
     "base_uri": "https://localhost:8080/"
    },
    "id": "UQ-rMCTkxmoJ",
    "outputId": "e40044eb-347b-45f5-9e33-9c6ad7354cfe"
   },
   "outputs": [
    {
     "name": "stdout",
     "output_type": "stream",
     "text": [
      "tensor([[0, 0, 0],\n",
      "        [0, 0, 0],\n",
      "        [0, 0, 0],\n",
      "        [0, 0, 0],\n",
      "        [0, 0, 0]])\n"
     ]
    }
   ],
   "source": [
    "x = torch.zeros(5, 3, dtype=torch.long)\n",
    "print(x)"
   ]
  },
  {
   "cell_type": "markdown",
   "metadata": {
    "id": "WRWEERSH0fj9"
   },
   "source": [
    "Nou pouvons s'assurer du type de la variable `x` en utilisant la fonction `type()` :"
   ]
  },
  {
   "cell_type": "code",
   "execution_count": 7,
   "metadata": {
    "colab": {
     "base_uri": "https://localhost:8080/"
    },
    "id": "Xf9PS0uXzn5C",
    "outputId": "53eb5836-2400-4f48-9a53-0b861667c286"
   },
   "outputs": [
    {
     "data": {
      "text/plain": [
       "torch.Tensor"
      ]
     },
     "execution_count": 7,
     "metadata": {},
     "output_type": "execute_result"
    }
   ],
   "source": [
    "type(x)"
   ]
  },
  {
   "cell_type": "markdown",
   "metadata": {
    "id": "9wq-HWKI1MFI"
   },
   "source": [
    "Nous pouvons créer un `Tensor` directement à partir des valeurs prédéfinies :"
   ]
  },
  {
   "cell_type": "code",
   "execution_count": 8,
   "metadata": {
    "colab": {
     "base_uri": "https://localhost:8080/"
    },
    "id": "2XMYz-aR0sDb",
    "outputId": "1941f396-1fbf-49d7-d36e-06fcc1fc942c"
   },
   "outputs": [
    {
     "name": "stdout",
     "output_type": "stream",
     "text": [
      "tensor([[ 0,  1,  2],\n",
      "        [ 3,  4,  5],\n",
      "        [ 6,  7,  8],\n",
      "        [-6, -7, -8],\n",
      "        [-3, -4, -5]])\n"
     ]
    }
   ],
   "source": [
    "x = torch.tensor([[0,1,2], [3,4,5], [6,7,8], [-6,-7,-8], [-3,-4,-5]])\n",
    "print(x)"
   ]
  },
  {
   "cell_type": "markdown",
   "metadata": {
    "id": "4JpeE-7n2NOc"
   },
   "source": [
    "On peut créer un `tensor` basé sur un autre `tensor` existant. Ces méthodes réutilisent les propriétés du `tensor` d'entrée :"
   ]
  },
  {
   "cell_type": "code",
   "execution_count": 9,
   "metadata": {
    "colab": {
     "base_uri": "https://localhost:8080/"
    },
    "id": "ZnevBnQY1hT3",
    "outputId": "c45abc7f-65d9-4390-e05c-6c573e173a5b"
   },
   "outputs": [
    {
     "name": "stdout",
     "output_type": "stream",
     "text": [
      "tensor([[0., 0., 0.],\n",
      "        [0., 0., 0.],\n",
      "        [0., 0., 0.],\n",
      "        [0., 0., 0.],\n",
      "        [0., 0., 0.]], dtype=torch.float64)\n"
     ]
    }
   ],
   "source": [
    "x = x.new_zeros(5,3, dtype=torch.double)\n",
    "print(x)"
   ]
  },
  {
   "cell_type": "markdown",
   "metadata": {
    "id": "5jsXsaV53mg-"
   },
   "source": [
    "Voir https://pytorch.org/docs/stable/torch.html#torch.randint_like pour regénerer un `tensor` initialisé avec des valeurs aléatoires en se basant sur un `tensor` existant :"
   ]
  },
  {
   "cell_type": "code",
   "execution_count": 10,
   "metadata": {
    "colab": {
     "base_uri": "https://localhost:8080/"
    },
    "id": "537BK6J03Hjf",
    "outputId": "8aa0e4a1-bef8-4223-da81-4ec209c4fdf5"
   },
   "outputs": [
    {
     "name": "stdout",
     "output_type": "stream",
     "text": [
      "tensor([[-0.2231, -1.0972, -0.8638],\n",
      "        [-0.4197, -0.3429, -0.1550],\n",
      "        [-1.8806,  0.1434, -0.2879],\n",
      "        [-0.2857,  0.8276,  0.5593],\n",
      "        [ 0.1287,  0.2027,  0.5738]])\n"
     ]
    }
   ],
   "source": [
    "x = torch.randn_like(x, dtype=torch.float)    # override dtype!\n",
    "print(x)"
   ]
  },
  {
   "cell_type": "markdown",
   "metadata": {
    "id": "J-JRnnXW4Mor"
   },
   "source": [
    "### Opérations sur les `Tensor`\n",
    "Les opérations sur les `tensor` peuvent être directement appliquée sur ces dérniers comme suit : "
   ]
  },
  {
   "cell_type": "code",
   "execution_count": 11,
   "metadata": {
    "colab": {
     "base_uri": "https://localhost:8080/"
    },
    "id": "gD-6Opia3aBR",
    "outputId": "af1d5a87-fdbc-4b4f-d068-dd252835a144"
   },
   "outputs": [
    {
     "name": "stdout",
     "output_type": "stream",
     "text": [
      "tensor([[ 0.3125, -0.7367, -0.6143],\n",
      "        [ 0.1928,  0.2158,  0.7188],\n",
      "        [-1.6616,  0.9875,  0.0833],\n",
      "        [ 0.3016,  1.2232,  0.8364],\n",
      "        [ 0.8408,  0.4710,  1.1492]])\n"
     ]
    }
   ],
   "source": [
    "y = torch.rand(5, 3)\n",
    "print(x + y)"
   ]
  },
  {
   "cell_type": "markdown",
   "metadata": {
    "id": "9K6J_8mX5KW_"
   },
   "source": [
    "Ou bien utiliser des fonctions prédéfinies de PyTorch :"
   ]
  },
  {
   "cell_type": "code",
   "execution_count": 12,
   "metadata": {
    "colab": {
     "base_uri": "https://localhost:8080/"
    },
    "id": "b98XF7Dr4u-m",
    "outputId": "439cbc4e-e9aa-4fa9-ad2b-78db33822e7f"
   },
   "outputs": [
    {
     "name": "stdout",
     "output_type": "stream",
     "text": [
      "tensor([[ 0.3125, -0.7367, -0.6143],\n",
      "        [ 0.1928,  0.2158,  0.7188],\n",
      "        [-1.6616,  0.9875,  0.0833],\n",
      "        [ 0.3016,  1.2232,  0.8364],\n",
      "        [ 0.8408,  0.4710,  1.1492]])\n"
     ]
    }
   ],
   "source": [
    "print(torch.add(x,y))"
   ]
  },
  {
   "cell_type": "markdown",
   "metadata": {
    "id": "WuuhKuCT54oe"
   },
   "source": [
    "Le résultat pourrait être récupéré en passant un `tensor` (noté `z`) comme argument :"
   ]
  },
  {
   "cell_type": "code",
   "execution_count": 13,
   "metadata": {
    "colab": {
     "base_uri": "https://localhost:8080/"
    },
    "id": "E8nViOhB5XHW",
    "outputId": "73ecca07-3f97-45de-89f5-507895ffcebd"
   },
   "outputs": [
    {
     "name": "stdout",
     "output_type": "stream",
     "text": [
      "tensor([[ 0.3125, -0.7367, -0.6143],\n",
      "        [ 0.1928,  0.2158,  0.7188],\n",
      "        [-1.6616,  0.9875,  0.0833],\n",
      "        [ 0.3016,  1.2232,  0.8364],\n",
      "        [ 0.8408,  0.4710,  1.1492]])\n"
     ]
    }
   ],
   "source": [
    "z = torch.empty(5,3)\n",
    "torch.add(x,y,out=z)\n",
    "print(z)"
   ]
  },
  {
   "cell_type": "markdown",
   "metadata": {
    "id": "21kA0m4Q6qJR"
   },
   "source": [
    "Un opération sur un `tensor` pourrait être faite `in-place` (généralement suivi par `_`), c'est à dire que le résultat est stocké dans le `tensor` appelant de la fonction et repmlacera donc l'anciène valeur : "
   ]
  },
  {
   "cell_type": "code",
   "execution_count": 14,
   "metadata": {
    "colab": {
     "base_uri": "https://localhost:8080/"
    },
    "id": "LpT-j2Oa6YCq",
    "outputId": "848f54a3-b337-4a73-8263-d2e6760fab58"
   },
   "outputs": [
    {
     "name": "stdout",
     "output_type": "stream",
     "text": [
      "tensor([[ 0.3125, -0.7367, -0.6143],\n",
      "        [ 0.1928,  0.2158,  0.7188],\n",
      "        [-1.6616,  0.9875,  0.0833],\n",
      "        [ 0.3016,  1.2232,  0.8364],\n",
      "        [ 0.8408,  0.4710,  1.1492]])\n"
     ]
    }
   ],
   "source": [
    "y.add_(x)\n",
    "print(y)"
   ]
  },
  {
   "cell_type": "markdown",
   "metadata": {
    "id": "O81BvZCLN-uR"
   },
   "source": [
    "Nous pouvons utiliser la notation de `numpy` pour manipuler les `tensor` sur PyTorch. Afficher la première colonne comme suit : "
   ]
  },
  {
   "cell_type": "code",
   "execution_count": 15,
   "metadata": {
    "colab": {
     "base_uri": "https://localhost:8080/"
    },
    "id": "xSDqdSBu7prk",
    "outputId": "274c9a5e-bbca-41b0-ba45-53986ab22a94"
   },
   "outputs": [
    {
     "name": "stdout",
     "output_type": "stream",
     "text": [
      "tensor([ 0.3125,  0.1928, -1.6616,  0.3016,  0.8408])\n"
     ]
    }
   ],
   "source": [
    "print(y[:, 0])"
   ]
  },
  {
   "cell_type": "markdown",
   "metadata": {
    "id": "gz77TZLwp-cc"
   },
   "source": [
    "Il y a donc un lien entre les `tensor` PyTorch et les `NumPy Array`.  \n",
    "Les modules `Torch Tensor` et `NumPy` partageront le même éspace mémoire (si le Torch Tensor est sur CPU), et changer l'un changera l'autre.  \n",
    "On peut convertir un `tensor` PyTorch en un `array` Numpy commme suit :"
   ]
  },
  {
   "cell_type": "code",
   "execution_count": 16,
   "metadata": {
    "colab": {
     "base_uri": "https://localhost:8080/"
    },
    "id": "UhWWxsSK72sE",
    "outputId": "0d57b122-350c-40b4-8c51-9bfaa7be88e6"
   },
   "outputs": [
    {
     "name": "stdout",
     "output_type": "stream",
     "text": [
      "a :  tensor([0.2526, 0.9980, 0.6574, 0.2009, 0.4081])\n",
      "b :  [0.2525999  0.99802136 0.65737057 0.20094615 0.40814155]\n"
     ]
    }
   ],
   "source": [
    "a = torch.rand(5)\n",
    "print(\"a : \", a)\n",
    "b = a.numpy()\n",
    "print(\"b : \", b)"
   ]
  },
  {
   "cell_type": "markdown",
   "metadata": {
    "id": "MRFnAL2JtFuZ"
   },
   "source": [
    "Si l'on change la valeur du `tensor` PyTorch, la valeur du `array` Numpy change également:"
   ]
  },
  {
   "cell_type": "code",
   "execution_count": 17,
   "metadata": {
    "colab": {
     "base_uri": "https://localhost:8080/"
    },
    "id": "bcLLc0j3sq3x",
    "outputId": "b448e798-9201-4463-8d18-c52bc7f158cb"
   },
   "outputs": [
    {
     "name": "stdout",
     "output_type": "stream",
     "text": [
      "a :  tensor([1.2526, 1.9980, 1.6574, 1.2009, 1.4081])\n",
      "b :  [1.2526    1.9980214 1.6573706 1.2009461 1.4081416]\n"
     ]
    }
   ],
   "source": [
    "a.add_(1)\n",
    "print(\"a : \", a)\n",
    "print(\"b : \", b)"
   ]
  },
  {
   "cell_type": "markdown",
   "metadata": {
    "id": "oMMf5YE0ufFs"
   },
   "source": [
    "On peut faire la conversion dans le sens inverse :"
   ]
  },
  {
   "cell_type": "code",
   "execution_count": 18,
   "metadata": {
    "colab": {
     "base_uri": "https://localhost:8080/"
    },
    "id": "GuCF5262tcj1",
    "outputId": "daa3bdd6-09b3-4956-ea67-77f691949e36"
   },
   "outputs": [
    {
     "name": "stdout",
     "output_type": "stream",
     "text": [
      "a :  [1.11674193 1.06819685 1.76770276 1.11520086 1.84828823]\n",
      "b :  tensor([1.1167, 1.0682, 1.7677, 1.1152, 1.8483], dtype=torch.float64)\n"
     ]
    }
   ],
   "source": [
    "import numpy as np\n",
    "# Générer un tableau aléatoirement initilisé\n",
    "a = np.random.rand(5)\n",
    "# Convertir le tableau en un tensor PyTorch\n",
    "b = torch.from_numpy(a)\n",
    "\n",
    "np.add(a, 1, out=a)\n",
    "print(\"a : \", a)\n",
    "print(\"b : \", b)"
   ]
  },
  {
   "cell_type": "markdown",
   "metadata": {
    "id": "VllNJF26vkyg"
   },
   "source": [
    "Jusqu'à présent, tous les `tensor` créés sont traité sur CPU.  \n",
    "`PyTorch` offre la possibilité de transférer les `tensor` sur GPU (c'est d'ailleurs la différence entre `Numpy` et `PyTorch`).  \n",
    "Les `tensor` peuvent donc être transférés entre CPU <-> GPU en utilisant la méthode `.to()`. "
   ]
  },
  {
   "cell_type": "markdown",
   "metadata": {
    "id": "ihR5YTSjwThU"
   },
   "source": [
    "###Les Tensors CUDA \n",
    "Il faut d'abord changer le type de l'accélérateur matériel en GPU afin de pour utiliser les `CUDA tensor`."
   ]
  },
  {
   "cell_type": "code",
   "execution_count": 19,
   "metadata": {
    "colab": {
     "base_uri": "https://localhost:8080/"
    },
    "id": "A749GtkW3vX9",
    "outputId": "6ba31ba6-86e9-4227-a697-710f394bb961"
   },
   "outputs": [
    {
     "name": "stdout",
     "output_type": "stream",
     "text": [
      "cuda\n"
     ]
    }
   ],
   "source": [
    "device = \"cpu\"\n",
    "if torch.cuda.is_available():\n",
    "  device = torch.device(\"cuda\")\n",
    "print(device)"
   ]
  },
  {
   "cell_type": "markdown",
   "metadata": {
    "id": "D5o-nWaZ5_xh"
   },
   "source": [
    "On peut créer le `tensor` directement sur GPU en le passant en paramètre :"
   ]
  },
  {
   "cell_type": "code",
   "execution_count": 20,
   "metadata": {
    "colab": {
     "base_uri": "https://localhost:8080/"
    },
    "id": "Ylzlm0CFuu0Y",
    "outputId": "b6c4970d-44dd-4b71-8472-099edcf9d062"
   },
   "outputs": [
    {
     "name": "stdout",
     "output_type": "stream",
     "text": [
      "tensor([1.1515, 1.6849, 1.3072, 1.9045, 1.9542], device='cuda:0')\n",
      "CPU times: user 4.69 s, sys: 3.33 s, total: 8.02 s\n",
      "Wall time: 12 s\n"
     ]
    }
   ],
   "source": [
    "%%time\n",
    "x = torch.rand(5, device=device)\n",
    "y = torch.ones(5, device=device)\n",
    "x.add_(y)\n",
    "print(x)"
   ]
  },
  {
   "cell_type": "markdown",
   "metadata": {
    "id": "VYSWjLro6XrY"
   },
   "source": [
    "On peut créer le `tensor` sur CPU puis le transférer sur GPU :"
   ]
  },
  {
   "cell_type": "markdown",
   "metadata": {
    "id": "SWEiM4Ly6r22"
   },
   "source": [
    "***Excercise*** : \n",
    "- Coder des functions de calcul des opérations élémentaires sur des matrices sur CPU et sur GPU en utilisant `torch` (e.g. `matrix_add_CPU(a, b), matrix_add_GPU(a,b)`. \n",
    "- Mesurer les temps d'exécutions des fonctions codées puis comparer les en utilisant un histogramme `pyplot`.\n",
    "- Que remarquiez-vous?"
   ]
  },
  {
   "cell_type": "code",
   "execution_count": 21,
   "metadata": {
    "id": "SWlMorkA0dqn"
   },
   "outputs": [
    {
     "name": "stdout",
     "output_type": "stream",
     "text": [
      "Sur CPU :  tensor([1.2385, 1.0168, 1.6355, 1.2552, 1.6886])\n",
      "Sur GPU :  tensor([1.2385, 1.0168, 1.6355, 1.2552, 1.6886], device='cuda:0')\n",
      "CPU times: user 4 ms, sys: 20 ms, total: 24 ms\n",
      "Wall time: 102 ms\n"
     ]
    }
   ],
   "source": [
    "\"\"\"\n",
    "%%time\n",
    "a = torch.rand(5, device=\"cpu\")\n",
    "b = torch.ones(5, device=\"cpu\")\n",
    "c = torch.empty(5, device=\"cpu\")\n",
    "c = torch.add(a,b)\n",
    "print(\"Sur CPU : \",c)\n",
    "a = a.to(device)\n",
    "b = b.to(device)\n",
    "c = torch.add(a,b).to(device)\n",
    "print(\"Sur GPU : \", c)\n",
    "\"\"\""
   ]
  },
  {
   "cell_type": "code",
   "execution_count": 22,
   "metadata": {
    "id": "SbwAqVbO3dRZ"
   },
   "outputs": [
    {
     "data": {
      "image/png": "[encoded data removed]",
      "text/plain": [
       "<matplotlib.figure.Figure at 0x7f2569e160>"
      ]
     },
     "metadata": {},
     "output_type": "display_data"
    }
   ],
   "source": [
    "\"\"\"\n",
    "%matplotlib inline\n",
    "import matplotlib.pyplot as plt\n",
    "width = 0.5\n",
    "mesures = {\"Add_CPU\":12.3, \"Add_GPU\": 6.5, \"Mult_CPU\": 14.1, \"Mult_GPU\": 8.8, \"Dot_CPU\": 11.4, \"Dot_GPU\": 9.3}\n",
    "plt.bar(mesures.keys(), mesures.values(), width, color='r')\n",
    "plt.xlabel(\"Fonctions & Plateformes\")\n",
    "plt.ylabel(\"Temps d'exécution\")\n",
    "plt.grid(b=True, which='major', axis='both', linestyle='--')\n",
    "plt.show()\n",
    "\"\"\""
   ]
  },
  {
   "cell_type": "code",
   "execution_count": 24,
   "metadata": {},
   "outputs": [
    {
     "name": "stdout",
     "output_type": "stream",
     "text": [
      "a: tensor([0.9033, 0.1633, 0.7436, 0.1411, 0.5171])\n",
      "b: tensor([1., 1., 1., 1., 1.])\n",
      "Sur CPU: tensor([1.9033, 1.1633, 1.7436, 1.1411, 1.5171])\n",
      "Sur GPU: tensor([1.9033, 1.1633, 1.7436, 1.1411, 1.5171], device='cuda:0')\n"
     ]
    }
   ],
   "source": [
    "def matrix_add_CPU(a, b):\n",
    "    return torch.add(a, b)\n",
    "\n",
    "def matrix_add_GPU(a, b):\n",
    "    a = a.to(device=\"cuda\")\n",
    "    b = b.to(device=\"cuda\")\n",
    "    return torch.add(a, b)\n",
    "\n",
    "# Exemple d'utilisation\n",
    "a = torch.rand(5, device=\"cpu\")\n",
    "print(\"a:\", a)\n",
    "b = torch.ones(5, device=\"cpu\")\n",
    "print(\"b:\", b)\n",
    "\n",
    "# Sur CPU\n",
    "result_cpu = matrix_add_CPU(a, b)\n",
    "print(\"Sur CPU:\", result_cpu)\n",
    "\n",
    "# Sur GPU\n",
    "result_gpu = matrix_add_GPU(a, b)\n",
    "print(\"Sur GPU:\", result_gpu)"
   ]
  },
  {
   "cell_type": "code",
   "execution_count": 25,
   "metadata": {},
   "outputs": [
    {
     "data": {
      "image/png": "[encoded data removed]",
      "text/plain": [
       "<matplotlib.figure.Figure at 0x7ef3a54208>"
      ]
     },
     "metadata": {},
     "output_type": "display_data"
    }
   ],
   "source": [
    "import time\n",
    "import matplotlib.pyplot as plt\n",
    "\n",
    "def measure_time(func, *args):\n",
    "    start_time = time.time()\n",
    "    result = func(*args)\n",
    "    end_time = time.time()\n",
    "    execution_time = end_time - start_time\n",
    "    return execution_time, result\n",
    "\n",
    "# Exemple d'utilisation\n",
    "a = torch.rand(5, device=\"cpu\")\n",
    "b = torch.ones(5, device=\"cpu\")\n",
    "\n",
    "# Mesure du temps d'exécution sur CPU\n",
    "cpu_time, _ = measure_time(matrix_add_CPU, a, b)\n",
    "\n",
    "# Mesure du temps d'exécution sur GPU\n",
    "gpu_time, _ = measure_time(matrix_add_GPU, a, b)\n",
    "\n",
    "# Création de l'histogramme\n",
    "plt.bar(['Add_CPU', 'Add_GPU'], [cpu_time, gpu_time], color='r')\n",
    "plt.xlabel(\"Fonctions & Plateformes\")\n",
    "plt.ylabel(\"Temps d'exécution\")\n",
    "plt.grid(b=True, which='major', axis='both', linestyle='--')\n",
    "plt.show()"
   ]
  },
  {
   "cell_type": "markdown",
   "metadata": {
    "id": "Wv9JZyLkOses"
   },
   "source": [
    "###La convolution :\n",
    "La cnvolution est la base des réseau neuronal convolutif. \n",
    "Comme le montre la figure ci-dessous, la convolution (à deux dimensions dans nôtre cas) consiste à appliquer un filtre 2D (également appelé noyau) sur une matrice d'une taille plus grande, en appliquant une multiplication élément à élément, suivie d'une somme des résultats de multiplication. \n",
    "En plus de la matrice en entrée et du filtre, la convolution prend également un pas (*stride* en anglais) et une marge (*padding* en anglais). Le pas contrôle le mouvement du filtre sur la matrice en entrée tandis que la marge spécifie le nombre de lignes/colonnes contenant des zéros à ajouter à la frontière de la matrice en entrée. Dans l'exemple ci-dessous, le pas et la marge sont fixés à 1.\n",
    "![](https://i.stack.imgur.com/9OZKF.gif)"
   ]
  },
  {
   "cell_type": "markdown",
   "metadata": {
    "id": "fmwjOycxThN9"
   },
   "source": [
    "***Exercice*** : \n",
    "1. Proposez deux implémentations d'une convolution 2D tel que:\n",
    "  - `my_2D_Conv_CPU(matrix, kernel, stride, padding)` une convolution 2D sur CPU\n",
    "  - `my_2D_Conv_CPU(matrix, kernel, stride, padding)` une convolution 2D sur GPU\n",
    "avec `matrix` la matrice en entrée, `kernel` qui est le filtre, le pas `stride`, et la marge `padding`.  \n",
    "Afin de tester votre implémentation, ajuster les valeurs du `stride` et du `padding` afin de garder les mêmes dimensions de la matrice en entrée après l'application de la convolution.\n",
    "2. Proposez une implémentation d'une fonction de visualisation d'une matrice sous forme d'image. Pour ceci, vous pouvez utiliser la fonction `imshow()` de `pyplot`.\n",
    "3. Toujours en s'assurant que les dimensions de l'image en sortie restent les mêmes après la convolution, suivez l'exemple ci-dessous en testant votre implémentation sur l'image donnée dans l'exemple avec les filtres suivants :  \n",
    "$$a = \\begin{bmatrix} 1 & 0 & 1 \\\\ 0 & 1 & 0 \\\\ 1 & 0 & 1 \\end{bmatrix}$$  \n",
    "$$b = \\begin{bmatrix} 1 & 0 & 0 \\\\ 0 & 1 & 0 \\\\ 0 & 0 & 1 \\end{bmatrix}$$  \n",
    "$$c = \\begin{bmatrix} 0 & 0 & 1 \\\\ 0 & 1 & 0 \\\\ 1 & 0 & 0 \\end{bmatrix}$$\n",
    "4. Affichez les images avant et aprés la comnvolution. Que remarquiez-vous?\n",
    "5. Refaites le même traitement avec les fltres $a$, $b$, et $c$ en changeant leur taille comme suit : 5x5, 7x7, et en ajustant les veleurs du `du stride` et du `padding`.\n",
    "6. Comparez les temps d'exécution des deux implémentations de la convolution, CPU vs GPU sous forme d'histogramme. \n"
   ]
  },
  {
   "cell_type": "code",
   "execution_count": 33,
   "metadata": {
    "id": "UWRaJf-VJNP-"
   },
   "outputs": [
    {
     "data": {
      "text/plain": [
       "'\\n%matplotlib inline\\n\\nimport matplotlib.pyplot as plt \\nfrom PIL import Image\\nimport urllib.request\\nfrom torchvision import transforms\\nimport numpy as np\\n \\nimg = Image.open(urllib.request.urlopen(\"http://decsai.ugr.es/cvg/CG/images/base/1.gif\")) \\nx = np.array(img.getdata(), np.uint8).reshape(img.size[1], img.size[0])\\nplt.imshow(x)\\n'"
      ]
     },
     "execution_count": 33,
     "metadata": {},
     "output_type": "execute_result"
    }
   ],
   "source": [
    "\"\"\"\n",
    "%matplotlib inline\n",
    "\n",
    "import matplotlib.pyplot as plt \n",
    "from PIL import Image\n",
    "import urllib.request\n",
    "from torchvision import transforms\n",
    "import numpy as np\n",
    " \n",
    "img = Image.open(urllib.request.urlopen(\"http://decsai.ugr.es/cvg/CG/images/base/1.gif\")) \n",
    "x = np.array(img.getdata(), np.uint8).reshape(img.size[1], img.size[0])\n",
    "plt.imshow(x)\n",
    "\"\"\""
   ]
  },
  {
   "cell_type": "code",
   "execution_count": 32,
   "metadata": {},
   "outputs": [
    {
     "ename": "ValueError",
     "evalue": "cannot reshape array of size 718960 into shape (430,418)",
     "output_type": "error",
     "traceback": [
      "\u001b[0;31m---------------------------------------------------------------------------\u001b[0m",
      "\u001b[0;31mValueError\u001b[0m                                Traceback (most recent call last)",
      "\u001b[0;32m<ipython-input-32-6abfa0092015>\u001b[0m in \u001b[0;36m<module>\u001b[0;34m()\u001b[0m\n\u001b[1;32m     39\u001b[0m \u001b[0;31m#image telecharger sur googlecolab puis trsferer sur la carte\u001b[0m\u001b[0;34m\u001b[0m\u001b[0;34m\u001b[0m\u001b[0;34m\u001b[0m\u001b[0m\n\u001b[1;32m     40\u001b[0m \u001b[0;31m#x = np.array(img.getdata(), np.uint8).reshape(img.size[1], img.size[0])\u001b[0m\u001b[0;34m\u001b[0m\u001b[0;34m\u001b[0m\u001b[0;34m\u001b[0m\u001b[0m\n\u001b[0;32m---> 41\u001b[0;31m \u001b[0mx\u001b[0m \u001b[0;34m=\u001b[0m \u001b[0mnp\u001b[0m\u001b[0;34m.\u001b[0m\u001b[0marray\u001b[0m\u001b[0;34m(\u001b[0m\u001b[0mimg\u001b[0m\u001b[0;34m.\u001b[0m\u001b[0mgetdata\u001b[0m\u001b[0;34m(\u001b[0m\u001b[0;34m)\u001b[0m\u001b[0;34m,\u001b[0m \u001b[0mnp\u001b[0m\u001b[0;34m.\u001b[0m\u001b[0muint8\u001b[0m\u001b[0;34m)\u001b[0m\u001b[0;34m.\u001b[0m\u001b[0mreshape\u001b[0m\u001b[0;34m(\u001b[0m\u001b[0mimg\u001b[0m\u001b[0;34m.\u001b[0m\u001b[0msize\u001b[0m\u001b[0;34m[\u001b[0m\u001b[0;36m0\u001b[0m\u001b[0;34m]\u001b[0m\u001b[0;34m,\u001b[0m \u001b[0mimg\u001b[0m\u001b[0;34m.\u001b[0m\u001b[0msize\u001b[0m\u001b[0;34m[\u001b[0m\u001b[0;36m1\u001b[0m\u001b[0;34m]\u001b[0m\u001b[0;34m)\u001b[0m\u001b[0;34m\u001b[0m\u001b[0;34m\u001b[0m\u001b[0m\n\u001b[0m\u001b[1;32m     42\u001b[0m \u001b[0;34m\u001b[0m\u001b[0m\n\u001b[1;32m     43\u001b[0m \u001b[0;34m\u001b[0m\u001b[0m\n",
      "\u001b[0;31mValueError\u001b[0m: cannot reshape array of size 718960 into shape (430,418)"
     ]
    }
   ],
   "source": [
    "\"\"\"\n",
    "Pour commencer, voici deux implémentations de convolution 2D, une pour CPU et une pour GPU, utilisant PyTorch\n",
    "\"\"\"\n",
    "\n",
    "import torch.nn.functional as F\n",
    "\n",
    "def my_2D_Conv_CPU(matrix, kernel, stride, padding):\n",
    "    matrix = torch.tensor(matrix, dtype=torch.float32)\n",
    "    kernel = torch.tensor(kernel, dtype=torch.float32)\n",
    "    result = F.conv2d(matrix.unsqueeze(0).unsqueeze(0), kernel.unsqueeze(0).unsqueeze(0), stride=stride, padding=padding)\n",
    "    return result.squeeze().numpy()\n",
    "\n",
    "def my_2D_Conv_GPU(matrix, kernel, stride, padding):\n",
    "    matrix = torch.tensor(matrix, dtype=torch.float32, device=\"cuda\")\n",
    "    kernel = torch.tensor(kernel, dtype=torch.float32, device=\"cuda\")\n",
    "    result = F.conv2d(matrix.unsqueeze(0).unsqueeze(0), kernel.unsqueeze(0).unsqueeze(0), stride=stride, padding=padding)\n",
    "    return result.squeeze().cpu().numpy()\n",
    "\n",
    "\"\"\"\n",
    "voici une fonction de visualisation d'une matrice sous forme d'image :\n",
    "\"\"\"\n",
    "def visualize_matrix_as_image(matrix, title=\"Image\"):\n",
    "    plt.imshow(matrix, cmap='gray')\n",
    "    plt.title(title)\n",
    "    plt.axis('off')\n",
    "    plt.show()\n",
    "\n",
    "\"\"\"\n",
    "pour effectuer des convolutions et visualiser les résultats \n",
    "\"\"\"\n",
    "# Exemple avec les filtres a, b, c de taille 3x3\n",
    "a = torch.tensor([[1, 0, -1], [1, 0, -1], [1, 0, -1]])\n",
    "b = torch.tensor([[1, 0, 1], [1, 0, 1], [1, 0, 1]])\n",
    "c = torch.tensor([[0, 1, 0], [1, -4, 1], [0, 1, 0]])\n",
    "\n",
    "# Charger l'image\n",
    "#img = Image.open(urllib.request.urlopen(\"http://decsai.ugr.es/cvg/CG/images/base/1.gif\"))\n",
    "img = Image.open(\"/home/jetson/multicore/téléchargement.png\")\n",
    "#image telecharger sur googlecolab puis trsferer sur la carte \n",
    "x = np.array(img.getdata(), np.uint8).reshape(img.size[1], img.size[0])\n",
    "\n",
    "\n",
    "# Appliquer la convolution avec les filtres de taille 3x3\n",
    "result_a_cpu = my_2D_Conv_CPU(x, a, stride=1, padding=1)\n",
    "result_b_cpu = my_2D_Conv_CPU(x, b, stride=1, padding=1)\n",
    "result_c_cpu = my_2D_Conv_CPU(x, c, stride=1, padding=1)\n",
    "\n",
    "# Visualiser les résultats avant et après la convolution\n",
    "visualize_matrix_as_image(x, title=\"Image originale\")\n",
    "visualize_matrix_as_image(result_a_cpu, title=\"Convolution avec filtre a (CPU)\")\n",
    "visualize_matrix_as_image(result_b_cpu, title=\"Convolution avec filtre b (CPU)\")\n",
    "visualize_matrix_as_image(result_c_cpu, title=\"Convolution avec filtre c (CPU)\")\n",
    "\n",
    "\"\"\"\n",
    "répéter le processus en ajustant la taille des filtres, le stride et le padding\n",
    "\"\"\"\n",
    "# Mesurer le temps d'exécution pour la convolution CPU\n",
    "start_time_cpu = time.time()\n",
    "result_cpu = my_2D_Conv_CPU(x, a, stride=1, padding=1)\n",
    "end_time_cpu = time.time()\n",
    "execution_time_cpu = end_time_cpu - start_time_cpu\n",
    "\n",
    "# Mesurer le temps d'exécution pour la convolution GPU\n",
    "start_time_gpu = time.time()\n",
    "result_gpu = my_2D_Conv_GPU(x, a, stride=1, padding=1)\n",
    "end_time_gpu = time.time()\n",
    "execution_time_gpu = end_time_gpu - start_time_gpu\n",
    "\n",
    "# Créer un histogramme pour comparer les temps d'exécution\n",
    "plt.bar(['Conv_CPU', 'Conv_GPU'], [execution_time_cpu, execution_time_gpu], color='b')\n",
    "plt.xlabel(\"Plateformes\")\n",
    "plt.ylabel(\"Temps d'exécution (s)\")\n",
    "plt.grid(b=True, which='major', axis='both', linestyle='--')\n",
    "plt.show()"
   ]
  },
  {
   "cell_type": "code",
   "execution_count": null,
   "metadata": {},
   "outputs": [],
   "source": []
  }
 ],
 "metadata": {
  "accelerator": "GPU",
  "colab": {
   "collapsed_sections": [],
   "name": "TP1_Master.ipynb",
   "provenance": []
  },
  "kernelspec": {
   "display_name": "Python 3",
   "language": "python",
   "name": "python3"
  },
  "language_info": {
   "codemirror_mode": {
    "name": "ipython",
    "version": 3
   },
   "file_extension": ".py",
   "mimetype": "text/x-python",
   "name": "python",
   "nbconvert_exporter": "python",
   "pygments_lexer": "ipython3",
   "version": "3.6.9"
  }
 },
 "nbformat": 4,
 "nbformat_minor": 1
}
